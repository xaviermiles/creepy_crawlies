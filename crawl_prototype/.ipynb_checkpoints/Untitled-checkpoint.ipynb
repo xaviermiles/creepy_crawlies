{
 "cells": [
  {
   "cell_type": "code",
   "execution_count": 6,
   "id": "b6576ac5-ee46-4c2f-afda-cb6a2baf690b",
   "metadata": {},
   "outputs": [],
   "source": [
    "from urllib.parse import urlsplit"
   ]
  },
  {
   "cell_type": "code",
   "execution_count": 7,
   "id": "d791f690-a12e-4832-b762-0a3e73e75e0c",
   "metadata": {},
   "outputs": [],
   "source": [
    "urls = [\n",
    "    'https://www.macpac.co.nz/robots.txt', \n",
    "    'https://bluesteelband.co.nz/sitemap.xml',\n",
    "    'https://bluestonedunedin.co.nz/sitemap.xml',\n",
    "    'https://www.macpac.co.nz/',\n",
    "    'https://www.macpac.co.nz',\n",
    "    'https://example.com/one/two/three/',\n",
    "    'https://example.com/one/two/three'\n",
    "]"
   ]
  },
  {
   "cell_type": "code",
   "execution_count": 8,
   "id": "6fb710e8-406f-4838-9869-54e3b72a91ea",
   "metadata": {},
   "outputs": [
    {
     "name": "stdout",
     "output_type": "stream",
     "text": [
      "URL:      https://www.macpac.co.nz/robots.txt\n",
      "Level:    2\n",
      "Homepage: https://www.macpac.co.nz \n",
      "\n",
      "URL:      https://bluesteelband.co.nz/sitemap.xml\n",
      "Level:    2\n",
      "Homepage: https://bluesteelband.co.nz \n",
      "\n",
      "URL:      https://bluestonedunedin.co.nz/sitemap.xml\n",
      "Level:    2\n",
      "Homepage: https://bluestonedunedin.co.nz \n",
      "\n",
      "URL:      https://www.macpac.co.nz/\n",
      "Level:    1\n",
      "Homepage: https://www.macpac.co.nz \n",
      "\n",
      "URL:      https://www.macpac.co.nz\n",
      "Level:    1\n",
      "Homepage: https://www.macpac.co.nz \n",
      "\n",
      "URL:      https://example.com/one/two/three/\n",
      "Level:    4\n",
      "Homepage: https://example.com \n",
      "\n",
      "URL:      https://example.com/one/two/three\n",
      "Level:    4\n",
      "Homepage: https://example.com \n",
      "\n"
     ]
    }
   ],
   "source": [
    "for url in urls:\n",
    "    url_parts = urlsplit(url)\n",
    "    level = len(list(filter(None, urlsplit(url).path.split('/')))) + 1\n",
    "    homepage_url = f\"{url_parts.scheme}://{url_parts.netloc}\"\n",
    "    print(\"URL:     \", url)\n",
    "    print(\"Level:   \", level)\n",
    "    print(\"Homepage:\", homepage_url, '\\n')"
   ]
  },
  {
   "cell_type": "code",
   "execution_count": 2,
   "id": "ac761796-c81b-4494-9ffa-21785d01e3d5",
   "metadata": {},
   "outputs": [],
   "source": [
    "import requests"
   ]
  },
  {
   "cell_type": "code",
   "execution_count": 4,
   "id": "d86775b3-ee5d-4f94-854b-e2a1395ab9e3",
   "metadata": {},
   "outputs": [],
   "source": [
    "def does_url_exist(url):\n",
    "    status_code = get_http_status_code(url)\n",
    "    if status_code:\n",
    "        return status_code < 400        \n",
    "     \n",
    "def get_http_status_code(url):\n",
    "    try:\n",
    "        # verify=False is only acceptable since it is a one-time\n",
    "        # request (ie. no back-and-forth between client & server).\n",
    "        # Is there a safer alternative???\n",
    "        # See https://stackoverflow.com/questions/10667960/python-requests-throwing-sslerror\n",
    "        r = requests.head(url, verify=False)  \n",
    "        return r.status_code\n",
    "    except Exception as e:\n",
    "        logger.info(f\"{type(e).__name__}: {url}\")\n",
    "        \n",
    "        \n",
    "def get_robots_or_sitemap(domain):\n",
    "    # Order matters:\n",
    "    attempts = [\n",
    "        f\"https://{domain}/robots.txt\",\n",
    "        f\"https://{domain}/sitemap.xml\",\n",
    "    ]\n",
    "    \n",
    "    for url in attempts:\n",
    "        if does_url_exist(url):\n",
    "            return url"
   ]
  },
  {
   "cell_type": "code",
   "execution_count": 5,
   "id": "d1351538-876c-4db1-8207-b0f464604bf2",
   "metadata": {},
   "outputs": [
    {
     "name": "stderr",
     "output_type": "stream",
     "text": [
      "/usr/lib/python3/dist-packages/urllib3/connectionpool.py:999: InsecureRequestWarning: Unverified HTTPS request is being made to host 'bluishcoder.co.nz'. Adding certificate verification is strongly advised. See: https://urllib3.readthedocs.io/en/latest/advanced-usage.html#ssl-warnings\n",
      "  warnings.warn(\n",
      "/usr/lib/python3/dist-packages/urllib3/connectionpool.py:999: InsecureRequestWarning: Unverified HTTPS request is being made to host 'bluishcoder.co.nz'. Adding certificate verification is strongly advised. See: https://urllib3.readthedocs.io/en/latest/advanced-usage.html#ssl-warnings\n",
      "  warnings.warn(\n"
     ]
    }
   ],
   "source": [
    "get_robots_or_sitemap(\"bluishcoder.co.nz\")"
   ]
  },
  {
   "cell_type": "code",
   "execution_count": 9,
   "id": "65dc55b7-3f30-4ad1-9189-bf660825bb4c",
   "metadata": {},
   "outputs": [
    {
     "name": "stdout",
     "output_type": "stream",
     "text": [
      "User-agent: *\n",
      "Disallow: /wp-admin/\n",
      "Allow: /wp-admin/admin-ajax.php\n",
      "\n"
     ]
    }
   ],
   "source": [
    "print(requests.get(\"https://blume.co.nz/robots.txt\").content.decode())"
   ]
  }
 ],
 "metadata": {
  "kernelspec": {
   "display_name": "Python 3",
   "language": "python",
   "name": "python3"
  },
  "language_info": {
   "codemirror_mode": {
    "name": "ipython",
    "version": 3
   },
   "file_extension": ".py",
   "mimetype": "text/x-python",
   "name": "python",
   "nbconvert_exporter": "python",
   "pygments_lexer": "ipython3",
   "version": "3.8.5"
  }
 },
 "nbformat": 4,
 "nbformat_minor": 5
}
